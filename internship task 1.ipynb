
import numpy as np
import matplotlib.pyplot as plt
from sklearn.datasets import load_iris
from sklearn.model_selection import train_test_split
from sklearn.tree import DecisionTreeClassifier
from sklearn import tree
from sklearn.metrics import accuracy_score

 
iris = load_iris()
X = iris.data  # Features (sepal and petal measurements)
y = iris.target  # Target (species)

 
X_train, X_test, y_train, y_test = train_test_split(X, y, test_size=0.3, random_state=42)

 
clf = DecisionTreeClassifier(random_state=42)

clf.fit(X_train, y_train)


plt.figure(figsize=(15, 10))
tree.plot_tree(clf, filled=True, feature_names=iris.feature_names, class_names=iris.target_names, rounded=True)
plt.show()

 
y_pred = clf.predict(X_test)
accuracy = accuracy_score(y_test, y_pred)
print(f"Accuracy of the decision tree classifier: {accuracy * 100:.2f}%")
